{
  "nbformat": 4,
  "nbformat_minor": 0,
  "metadata": {
    "colab": {
      "name": "cc-007/6.ipynb",
      "provenance": [],
      "collapsed_sections": []
    },
    "kernelspec": {
      "name": "python3",
      "display_name": "Python 3"
    }
  },
  "cells": [
    {
      "cell_type": "code",
      "metadata": {
        "colab": {
          "base_uri": "https://localhost:8080/"
        },
        "id": "OumksvVuYXRb",
        "outputId": "f3eb6f8a-e394-45fe-8abc-cf37f2cf490a"
      },
      "source": [
        "number = int(input(\"Find prime numbers  : \"))\r\n",
        "\r\n",
        "for num in range(2, number + 1):\r\n",
        "\r\n",
        "    i = 1\r\n",
        "\r\n",
        "    for i in range(2, num):\r\n",
        "        if(num % i == 0):\r\n",
        "            i = num\r\n",
        "            break;\r\n",
        "\r\n",
        "    # If the number is prime then print it.\r\n",
        "    if(i != num):\r\n",
        "        print(num, end=\" \")"
      ],
      "execution_count": null,
      "outputs": [
        {
          "output_type": "stream",
          "text": [
            "Find prime numbers  : 100\n",
            "2 3 5 7 11 13 17 19 23 29 31 37 41 43 47 53 59 61 67 71 73 79 83 89 97 "
          ],
          "name": "stdout"
        }
      ]
    },
    {
      "cell_type": "code",
      "metadata": {
        "id": "orr6PNwccVsp"
      },
      "source": [
        ""
      ],
      "execution_count": null,
      "outputs": []
    }
  ]
}