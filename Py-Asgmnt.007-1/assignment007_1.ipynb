{
  "nbformat": 4,
  "nbformat_minor": 0,
  "metadata": {
    "colab": {
      "name": "assignment007/1.ipynb",
      "provenance": [],
      "collapsed_sections": [],
      "authorship_tag": "ABX9TyPdNG4yUAmoUZEQcUex5GPR",
      "include_colab_link": true
    },
    "kernelspec": {
      "name": "python3",
      "display_name": "Python 3"
    }
  },
  "cells": [
    {
      "cell_type": "markdown",
      "metadata": {
        "id": "view-in-github",
        "colab_type": "text"
      },
      "source": [
        "<a href=\"https://colab.research.google.com/github/taydin7/assignment.007-1/blob/main/assignment007_1.ipynb\" target=\"_parent\"><img src=\"https://colab.research.google.com/assets/colab-badge.svg\" alt=\"Open In Colab\"/></a>"
      ]
    },
    {
      "cell_type": "code",
      "metadata": {
        "colab": {
          "base_uri": "https://localhost:8080/"
        },
        "id": "s6tutEdOHUoj",
        "outputId": "e0c3e7ee-a2a6-454d-82f0-42ff05391c2f"
      },
      "source": [
        "password = \"qwert2021\"\r\n",
        "user_name = \"Tahir\"\r\n",
        "name = input(\"Please enter your name :\")\r\n",
        "if name == user_name:\r\n",
        "    print(f\"Hello, Tahir!The password is :{password}\")\r\n",
        "else: \r\n",
        "    print(f\"Hello, {name}! See yoı later\" )    \r\n"
      ],
      "execution_count": null,
      "outputs": [
        {
          "output_type": "stream",
          "text": [
            "Please enter your name :Tahir\n",
            "Hello, Tahir!The password is :qwert2021\n"
          ],
          "name": "stdout"
        }
      ]
    }
  ]
}