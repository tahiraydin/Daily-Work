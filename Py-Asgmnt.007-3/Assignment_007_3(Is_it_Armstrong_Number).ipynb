{
  "nbformat": 4,
  "nbformat_minor": 0,
  "metadata": {
    "colab": {
      "name": "Assignment 007/3(Is it Armstrong Number)",
      "provenance": [],
      "authorship_tag": "ABX9TyM95vx9yijsLQL+1HJvHnha",
      "include_colab_link": true
    },
    "kernelspec": {
      "name": "python3",
      "display_name": "Python 3"
    }
  },
  "cells": [
    {
      "cell_type": "markdown",
      "metadata": {
        "id": "view-in-github",
        "colab_type": "text"
      },
      "source": [
        "<a href=\"https://colab.research.google.com/github/taydin7/assignmnet-007-3/blob/main/Assignment_007_3(Is_it_Armstrong_Number).ipynb\" target=\"_parent\"><img src=\"https://colab.research.google.com/assets/colab-badge.svg\" alt=\"Open In Colab\"/></a>"
      ]
    },
    {
      "cell_type": "code",
      "metadata": {
        "colab": {
          "base_uri": "https://localhost:8080/"
        },
        "id": "bAgP3AFq_7Nl",
        "outputId": "c8b7d519-1647-4478-e189-efc98fe0e346"
      },
      "source": [
        "number = int (input(\"Please enter a number \"))\r\n",
        "x = str(number)\r\n",
        "total = 0\r\n",
        "for i in x: \r\n",
        "      figure = int(i) ** len(x)\r\n",
        "      total+=figure\r\n",
        "if number == total:\r\n",
        "   print(f\"{total}, is an Armstrong number\")\r\n",
        "elif number < 0 or number==type (float ()) or number == type (str ()):\r\n",
        "    print(f\"{number} It is an invalid entry. Don't use non-numeric, float, or negative values!\")\r\n",
        "else:\r\n",
        "   print(f\"{number}, is not an Armstrong number\")"
      ],
      "execution_count": 1,
      "outputs": [
        {
          "output_type": "stream",
          "text": [
            "Please enter a number 541\n",
            "541, is not an Armstrong number\n"
          ],
          "name": "stdout"
        }
      ]
    }
  ]
}