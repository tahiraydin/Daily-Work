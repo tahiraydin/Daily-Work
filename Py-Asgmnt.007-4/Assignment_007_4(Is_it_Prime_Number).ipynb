{
  "nbformat": 4,
  "nbformat_minor": 0,
  "metadata": {
    "colab": {
      "name": "Assignment 007/4(Is it Prime Number)",
      "provenance": [],
      "authorship_tag": "ABX9TyP54iaPGcqlIhNCn1oXUHVk",
      "include_colab_link": true
    },
    "kernelspec": {
      "name": "python3",
      "display_name": "Python 3"
    }
  },
  "cells": [
    {
      "cell_type": "markdown",
      "metadata": {
        "id": "view-in-github",
        "colab_type": "text"
      },
      "source": [
        "<a href=\"https://colab.research.google.com/github/taydin7/assignment-007-4/blob/main/Assignment_007_4(Is_it_Prime_Number).ipynb\" target=\"_parent\"><img src=\"https://colab.research.google.com/assets/colab-badge.svg\" alt=\"Open In Colab\"/></a>"
      ]
    },
    {
      "cell_type": "code",
      "metadata": {
        "colab": {
          "base_uri": "https://localhost:8080/"
        },
        "id": "HlmBCxpfC8Vf",
        "outputId": "b1525f21-f375-4406-c871-1ab53855e291"
      },
      "source": [
        "number=int(input(\"enter a number : \"))\r\n",
        "if number > 1:\r\n",
        "   \r\n",
        "   for i in range(2,number):\r\n",
        "       if (number % i) == 0:\r\n",
        "           print(number,\" is not a prime number.\")\r\n",
        "           break\r\n",
        "   else:\r\n",
        "       print(number,\" is prime a number.\")\r\n",
        " \r\n",
        "else:\r\n",
        "   print(number,\" is not prime a number.\")"
      ],
      "execution_count": 9,
      "outputs": [
        {
          "output_type": "stream",
          "text": [
            "enter a number : 33\n",
            "33  is not a prime number.\n"
          ],
          "name": "stdout"
        }
      ]
    }
  ]
}