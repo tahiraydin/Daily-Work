{
  "nbformat": 4,
  "nbformat_minor": 0,
  "metadata": {
    "colab": {
      "name": "countletter.ipynb",
      "provenance": []
    },
    "kernelspec": {
      "name": "python3",
      "display_name": "Python 3"
    }
  },
  "cells": [
    {
      "cell_type": "code",
      "metadata": {
        "colab": {
          "base_uri": "https://localhost:8080/"
        },
        "id": "bhzj1Dcj_mW9",
        "outputId": "f5e7dda0-fc60-4fc0-a00e-693deed600a2"
      },
      "source": [
        "sentence= input(\"Please enter a sentence :\")\r\n",
        "word_dict={}\r\n",
        "\r\n",
        "for n in sentence:\r\n",
        "  keys= word_dict.keys()\r\n",
        "  if n in keys:\r\n",
        "    word_dict[n] +=1\r\n",
        "  else:\r\n",
        "    word_dict[n]=1\r\n",
        "word_dict      "
      ],
      "execution_count": 6,
      "outputs": [
        {
          "output_type": "stream",
          "text": [
            "Please enter a sentence :Count letter task is done\n"
          ],
          "name": "stdout"
        },
        {
          "output_type": "execute_result",
          "data": {
            "text/plain": [
              "{' ': 4,\n",
              " 'C': 1,\n",
              " 'a': 1,\n",
              " 'd': 1,\n",
              " 'e': 3,\n",
              " 'i': 1,\n",
              " 'k': 1,\n",
              " 'l': 1,\n",
              " 'n': 2,\n",
              " 'o': 2,\n",
              " 'r': 1,\n",
              " 's': 2,\n",
              " 't': 4,\n",
              " 'u': 1}"
            ]
          },
          "metadata": {
            "tags": []
          },
          "execution_count": 6
        }
      ]
    }
  ]
}