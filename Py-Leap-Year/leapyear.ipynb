{
  "nbformat": 4,
  "nbformat_minor": 0,
  "metadata": {
    "colab": {
      "name": "leapyear.ipynb",
      "provenance": [],
      "collapsed_sections": []
    },
    "kernelspec": {
      "name": "python3",
      "display_name": "Python 3"
    }
  },
  "cells": [
    {
      "cell_type": "code",
      "metadata": {
        "colab": {
          "base_uri": "https://localhost:8080/"
        },
        "id": "f99GUqFo4gDL",
        "outputId": "76cc2272-7442-41e3-fcc7-cff7e167680d"
      },
      "source": [
        "# User enters the year\r\n",
        "year = int(input(\"Enter Year: \"))\r\n",
        "\r\n",
        "# Leap Year Check\r\n",
        "if year % 4 == 0 and year % 100 != 0:\r\n",
        "    print(year, \"is a Leap Year\")\r\n",
        "elif year % 100 == 0:\r\n",
        "    print(year, \"is not a Leap Year\")\r\n",
        "elif year % 400 ==0:\r\n",
        "    print(year, \"is a Leap Year\")\r\n",
        "else:\r\n",
        "    print(year, \"is not a Leap Year\")"
      ],
      "execution_count": 3,
      "outputs": [
        {
          "output_type": "stream",
          "text": [
            "Enter Year: 2021\n",
            "2021 is not a Leap Year\n"
          ],
          "name": "stdout"
        }
      ]
    }
  ]
}